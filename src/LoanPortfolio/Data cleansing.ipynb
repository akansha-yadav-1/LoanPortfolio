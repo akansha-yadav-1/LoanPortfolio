{
 "cells": [
  {
   "cell_type": "code",
   "execution_count": 94,
   "outputs": [
    {
     "name": "stdout",
     "output_type": "stream",
     "text": [
      "<class 'pandas.core.frame.DataFrame'>\n",
      "RangeIndex: 20 entries, 0 to 19\n",
      "Data columns (total 9 columns):\n",
      " #   Column                       Non-Null Count  Dtype \n",
      "---  ------                       --------------  ----- \n",
      " 0   borrower_id                  20 non-null     object\n",
      " 1   borrower_name                20 non-null     object\n",
      " 2   financial_year_start_date    20 non-null     object\n",
      " 3   most_recent_data             20 non-null     object\n",
      " 4   borrower_currency            20 non-null     object\n",
      " 5   borrower_sector_code         20 non-null     int64 \n",
      " 6   borrower_sector_description  20 non-null     object\n",
      " 7   monitoring_level             20 non-null     int64 \n",
      " 8   monitoring_status            20 non-null     object\n",
      "dtypes: int64(2), object(7)\n",
      "memory usage: 1.5+ KB\n",
      "None\n",
      "<class 'pandas.core.frame.DataFrame'>\n",
      "RangeIndex: 9499 entries, 0 to 9498\n",
      "Data columns (total 11 columns):\n",
      " #   Column                       Non-Null Count  Dtype  \n",
      "---  ------                       --------------  -----  \n",
      " 0   borrower_id                  9499 non-null   object \n",
      " 1   borrower_name                9499 non-null   object \n",
      " 2   borrower_sector_code         9499 non-null   int64  \n",
      " 3   borrower_sector_description  9499 non-null   object \n",
      " 4   period                       9499 non-null   object \n",
      " 5   period_title                 9499 non-null   object \n",
      " 6   covenant_type                9499 non-null   object \n",
      " 7   covenant_property_name       9499 non-null   object \n",
      " 8   covenant_property            9499 non-null   object \n",
      " 9   covenant_property_unit       9499 non-null   object \n",
      " 10  covenant_property_value      9499 non-null   float64\n",
      "dtypes: float64(1), int64(1), object(9)\n",
      "memory usage: 816.4+ KB\n",
      "None\n",
      "<class 'pandas.core.frame.DataFrame'>\n",
      "RangeIndex: 118435 entries, 0 to 118434\n",
      "Data columns (total 13 columns):\n",
      " #   Column                       Non-Null Count   Dtype  \n",
      "---  ------                       --------------   -----  \n",
      " 0   borrower_id                  118435 non-null  object \n",
      " 1   borrower_name                118435 non-null  object \n",
      " 2   borrower_sector_code         116528 non-null  float64\n",
      " 3   borrower_sector_description  116528 non-null  object \n",
      " 4   item                         118435 non-null  object \n",
      " 5   item_name                    118435 non-null  object \n",
      " 6   parent_item                  69301 non-null   object \n",
      " 7   parent_name                  69301 non-null   object \n",
      " 8   item_order                   118435 non-null  int64  \n",
      " 9   item_type                    118435 non-null  object \n",
      " 10  period                       118435 non-null  object \n",
      " 11  period_title                 118435 non-null  object \n",
      " 12  item_value                   118435 non-null  float64\n",
      "dtypes: float64(2), int64(1), object(10)\n",
      "memory usage: 11.7+ MB\n",
      "None\n"
     ]
    }
   ],
   "source": [
    "import pandas as pd\n",
    "df_borrowers = pd.read_csv('input/Dummy_Borrowers.csv')\n",
    "df_covenants = pd.read_csv('input/Dummy_Covenants.csv')\n",
    "df_financials = pd.read_csv('input/Dummy_Financials.csv')\n",
    "print(df_borrowers.info())\n",
    "print(df_covenants.info())\n",
    "print(df_financials.info())"
   ],
   "metadata": {
    "collapsed": false,
    "pycharm": {
     "name": "#%%\n"
    }
   }
  },
  {
   "cell_type": "code",
   "execution_count": 95,
   "outputs": [
    {
     "name": "stdout",
     "output_type": "stream",
     "text": [
      "   borrower_id                borrower_name financial_year_start_date  \\\n",
      "0           B1      Knapp  Brown and Keller                2022-05-01   \n",
      "1           B2   Miller  Wood and Wilkinson                2022-02-01   \n",
      "2           B3                    Smith Ltd                2022-01-01   \n",
      "3           B4               Porter-Beasley                2022-04-01   \n",
      "4           B5       Flores  Perez and Chen                2022-07-01   \n",
      "5           B6           Gutierrez-Martinez                2022-02-01   \n",
      "6           B7                   Bauer-Page                2023-04-01   \n",
      "7           B8  Newman  Harris and Cisneros                2021-07-01   \n",
      "8           B9                   Lee-Gibson                2021-04-01   \n",
      "9          B10    Moore  Vasquez and Willis                2020-04-01   \n",
      "10         B11                    Jones PLC                2022-01-01   \n",
      "11         B12                 Gonzales LLC                2018-08-01   \n",
      "12         B13              Luna-Montgomery                2016-04-01   \n",
      "13         B14                    White Inc                2022-10-01   \n",
      "14         B15     Garcia  Gordon and Lopez                2023-06-01   \n",
      "15         B16            Smith-Blankenship                2023-01-01   \n",
      "16         B17                  Davis Group                2022-07-01   \n",
      "17         B18               Robertson-Todd                2023-04-01   \n",
      "18         B19      Woods  Ayers and Jacobs                2021-11-01   \n",
      "19         B20                     Pena LLC                2021-07-01   \n",
      "\n",
      "   most_recent_data borrower_currency  borrower_sector_code  \\\n",
      "0        2023-01-01               GBP                 43220   \n",
      "1        2023-01-01               GBP                 66290   \n",
      "2        2023-02-01               GBP                 55100   \n",
      "3        2023-02-01               GBP                 85590   \n",
      "4        2023-02-01               GBP                 73110   \n",
      "5        2023-03-01               GBP                 85410   \n",
      "6        2023-03-01               GBP                 55100   \n",
      "7        2023-03-01               GBP                 56101   \n",
      "8        2023-03-01               GBP                 42120   \n",
      "9        2023-03-01               GBP                 32500   \n",
      "10       2023-03-01               GBP                 70221   \n",
      "11       2023-03-01               GBP                 56101   \n",
      "12       2023-03-01               GBP                 42990   \n",
      "13       2023-03-01               GBP                 55100   \n",
      "14       2023-04-01               GBP                 28290   \n",
      "15       2023-04-01               EUR                 55100   \n",
      "16       2023-04-01               GBP                 55100   \n",
      "17       2023-04-01               GBP                 43999   \n",
      "18       2023-04-01               GBP                 55100   \n",
      "19       2022-03-01               GBP                 63990   \n",
      "\n",
      "                          borrower_sector_description  monitoring_level  \\\n",
      "0    Plumbing, heat and air-conditioning installation                 0   \n",
      "1   Other activities auxiliary to insurance and pe...                 0   \n",
      "2                    Hotels and similar accommodation                 0   \n",
      "3                              Other education n.e.c.                 0   \n",
      "4                                Advertising agencies                 0   \n",
      "5               Post-secondary non-tertiary education                 0   \n",
      "6                    Hotels and similar accommodation                 0   \n",
      "7                                Licenced restaurants                 0   \n",
      "8   Construction of railways and underground railways                 2   \n",
      "9   Manufacture of medical and dental instruments ...                 0   \n",
      "10                               Financial management                 0   \n",
      "11                               Licenced restaurants                 0   \n",
      "12  Construction of other civil engineering projec...                 0   \n",
      "13                   Hotels and similar accommodation                 0   \n",
      "14  Manufacture of other general-purpose machinery...                 0   \n",
      "15                   Hotels and similar accommodation                 0   \n",
      "16                   Hotels and similar accommodation                 2   \n",
      "17   Other specialised construction activities n.e.c.                 0   \n",
      "18                   Hotels and similar accommodation                 0   \n",
      "19        Other information service activities n.e.c.                 1   \n",
      "\n",
      "   monitoring_status  \n",
      "0           Standard  \n",
      "1           Standard  \n",
      "2           Standard  \n",
      "3           Standard  \n",
      "4           Standard  \n",
      "5           Standard  \n",
      "6           Standard  \n",
      "7           Standard  \n",
      "8          Intensive  \n",
      "9           Standard  \n",
      "10          Standard  \n",
      "11          Standard  \n",
      "12          Standard  \n",
      "13          Standard  \n",
      "14          Standard  \n",
      "15          Standard  \n",
      "16         Intensive  \n",
      "17          Standard  \n",
      "18          Standard  \n",
      "19         Watchlist  \n"
     ]
    }
   ],
   "source": [
    "print(df_borrowers)"
   ],
   "metadata": {
    "collapsed": false,
    "pycharm": {
     "name": "#%%\n"
    }
   }
  },
  {
   "cell_type": "code",
   "execution_count": 96,
   "outputs": [],
   "source": [
    "df_financials['period'] = pd.to_datetime(df_financials['period'],format='%d/%m/%y')\n"
   ],
   "metadata": {
    "collapsed": false,
    "pycharm": {
     "name": "#%%\n"
    }
   }
  },
  {
   "cell_type": "code",
   "execution_count": 97,
   "outputs": [
    {
     "name": "stdout",
     "output_type": "stream",
     "text": [
      "       borrower_id            borrower_name  borrower_sector_code  \\\n",
      "0               B1  Knapp  Brown and Keller               66290.0   \n",
      "1               B1  Knapp  Brown and Keller               66290.0   \n",
      "2               B1  Knapp  Brown and Keller               66290.0   \n",
      "3               B1  Knapp  Brown and Keller               66290.0   \n",
      "4               B1  Knapp  Brown and Keller               66290.0   \n",
      "...            ...                      ...                   ...   \n",
      "118430         B20                 Pena LLC               28290.0   \n",
      "118431         B20                 Pena LLC               28290.0   \n",
      "118432         B20                 Pena LLC               28290.0   \n",
      "118433         B20                 Pena LLC               28290.0   \n",
      "118434         B20                 Pena LLC               28290.0   \n",
      "\n",
      "                              borrower_sector_description  \\\n",
      "0       Other activities auxiliary to insurance and pe...   \n",
      "1       Other activities auxiliary to insurance and pe...   \n",
      "2       Other activities auxiliary to insurance and pe...   \n",
      "3       Other activities auxiliary to insurance and pe...   \n",
      "4       Other activities auxiliary to insurance and pe...   \n",
      "...                                                   ...   \n",
      "118430  Manufacture of other general-purpose machinery...   \n",
      "118431  Manufacture of other general-purpose machinery...   \n",
      "118432  Manufacture of other general-purpose machinery...   \n",
      "118433  Manufacture of other general-purpose machinery...   \n",
      "118434  Manufacture of other general-purpose machinery...   \n",
      "\n",
      "                                 item  \\\n",
      "0                            ACCR_EXP   \n",
      "1                           LT_INVEST   \n",
      "2                          SR_LT_DEBT   \n",
      "3                          TOTAL_LIAB   \n",
      "4                        ACCT_PAYABLE   \n",
      "...                               ...   \n",
      "118430          SELLING_MARKETING_EXP   \n",
      "118431        NET_INCOME_EXCL_MIN_INT   \n",
      "118432        OTHER_GENERAL_ADMIN_EXP   \n",
      "118433    NET_INCOME_INCL_EXTRA_ITEMS   \n",
      "118434  INTEREST_EXP_AND_INCOME_TOTAL   \n",
      "\n",
      "                                             item_name         parent_item  \\\n",
      "0                                             Accruals  TOTAL_CURRENT_LIAB   \n",
      "1                                Long-term Investments                 NaN   \n",
      "2                                    Other Senior Debt       TOTAL_LT_LIAB   \n",
      "3                                    Total Liabilities                 NaN   \n",
      "4                                      Trade Creditors  TOTAL_CURRENT_LIAB   \n",
      "...                                                ...                 ...   \n",
      "118430                             Selling & Marketing      TOTAL_OPER_EXP   \n",
      "118431   Net Income/(Loss) Excluding Minority Interest                 NaN   \n",
      "118432                               Other G&A Expense      TOTAL_OPER_EXP   \n",
      "118433  Net Income/(Loss) to Common Incl Unusual Items                 NaN   \n",
      "118434               Total Interest Expense and Income                 NaN   \n",
      "\n",
      "                        parent_name  item_order         item_type     period  \\\n",
      "0         Total Current Liabilities         302     Balance Sheet 2022-02-01   \n",
      "1                               NaN         277     Balance Sheet 2022-02-01   \n",
      "2       Total Long-Term Liabilities         319     Balance Sheet 2022-02-01   \n",
      "3                               NaN         338     Balance Sheet 2022-02-01   \n",
      "4         Total Current Liabilities         300     Balance Sheet 2022-02-01   \n",
      "...                             ...         ...               ...        ...   \n",
      "118430     Total Operating Expenses         178  Income Statement 2025-05-01   \n",
      "118431                          NaN         257  Income Statement 2025-05-01   \n",
      "118432     Total Operating Expenses         193  Income Statement 2025-05-01   \n",
      "118433                          NaN         259  Income Statement 2025-05-01   \n",
      "118434                          NaN         252  Income Statement 2025-05-01   \n",
      "\n",
      "       period_title    item_value  \n",
      "0           M1-FY23      0.000000  \n",
      "1           M1-FY23      0.000000  \n",
      "2           M1-FY23      0.000000  \n",
      "3           M1-FY23      0.000000  \n",
      "4           M1-FY23      0.000000  \n",
      "...             ...           ...  \n",
      "118430     M12-FY25 -70279.849830  \n",
      "118431     M12-FY25  13864.610400  \n",
      "118432     M12-FY25      0.000000  \n",
      "118433     M12-FY25  13864.610400  \n",
      "118434     M12-FY25  -4509.804853  \n",
      "\n",
      "[118435 rows x 13 columns]\n"
     ]
    }
   ],
   "source": [
    "print(df_financials)"
   ],
   "metadata": {
    "collapsed": false,
    "pycharm": {
     "name": "#%%\n"
    }
   }
  },
  {
   "cell_type": "code",
   "execution_count": 98,
   "outputs": [],
   "source": [
    "import re\n",
    "df_financials['fy_month'] = df_financials['period_title'].str.split('-',expand=True)[0].apply(lambda x: re.sub('[^0-9]', '', x))\n",
    "df_financials['fy_year'] = df_financials['period_title'].str.split('-',expand=True)[1].apply(lambda x: re.sub('[^0-9]', '', x))"
   ],
   "metadata": {
    "collapsed": false,
    "pycharm": {
     "name": "#%%\n"
    }
   }
  },
  {
   "cell_type": "code",
   "execution_count": 99,
   "outputs": [
    {
     "name": "stdout",
     "output_type": "stream",
     "text": [
      "       borrower_id            borrower_name  borrower_sector_code  \\\n",
      "0               B1  Knapp  Brown and Keller               66290.0   \n",
      "1               B1  Knapp  Brown and Keller               66290.0   \n",
      "2               B1  Knapp  Brown and Keller               66290.0   \n",
      "3               B1  Knapp  Brown and Keller               66290.0   \n",
      "4               B1  Knapp  Brown and Keller               66290.0   \n",
      "...            ...                      ...                   ...   \n",
      "118430         B20                 Pena LLC               28290.0   \n",
      "118431         B20                 Pena LLC               28290.0   \n",
      "118432         B20                 Pena LLC               28290.0   \n",
      "118433         B20                 Pena LLC               28290.0   \n",
      "118434         B20                 Pena LLC               28290.0   \n",
      "\n",
      "                              borrower_sector_description  \\\n",
      "0       Other activities auxiliary to insurance and pe...   \n",
      "1       Other activities auxiliary to insurance and pe...   \n",
      "2       Other activities auxiliary to insurance and pe...   \n",
      "3       Other activities auxiliary to insurance and pe...   \n",
      "4       Other activities auxiliary to insurance and pe...   \n",
      "...                                                   ...   \n",
      "118430  Manufacture of other general-purpose machinery...   \n",
      "118431  Manufacture of other general-purpose machinery...   \n",
      "118432  Manufacture of other general-purpose machinery...   \n",
      "118433  Manufacture of other general-purpose machinery...   \n",
      "118434  Manufacture of other general-purpose machinery...   \n",
      "\n",
      "                                 item  \\\n",
      "0                            ACCR_EXP   \n",
      "1                           LT_INVEST   \n",
      "2                          SR_LT_DEBT   \n",
      "3                          TOTAL_LIAB   \n",
      "4                        ACCT_PAYABLE   \n",
      "...                               ...   \n",
      "118430          SELLING_MARKETING_EXP   \n",
      "118431        NET_INCOME_EXCL_MIN_INT   \n",
      "118432        OTHER_GENERAL_ADMIN_EXP   \n",
      "118433    NET_INCOME_INCL_EXTRA_ITEMS   \n",
      "118434  INTEREST_EXP_AND_INCOME_TOTAL   \n",
      "\n",
      "                                             item_name         parent_item  \\\n",
      "0                                             Accruals  TOTAL_CURRENT_LIAB   \n",
      "1                                Long-term Investments                 NaN   \n",
      "2                                    Other Senior Debt       TOTAL_LT_LIAB   \n",
      "3                                    Total Liabilities                 NaN   \n",
      "4                                      Trade Creditors  TOTAL_CURRENT_LIAB   \n",
      "...                                                ...                 ...   \n",
      "118430                             Selling & Marketing      TOTAL_OPER_EXP   \n",
      "118431   Net Income/(Loss) Excluding Minority Interest                 NaN   \n",
      "118432                               Other G&A Expense      TOTAL_OPER_EXP   \n",
      "118433  Net Income/(Loss) to Common Incl Unusual Items                 NaN   \n",
      "118434               Total Interest Expense and Income                 NaN   \n",
      "\n",
      "                        parent_name  item_order         item_type     period  \\\n",
      "0         Total Current Liabilities         302     Balance Sheet 2022-02-01   \n",
      "1                               NaN         277     Balance Sheet 2022-02-01   \n",
      "2       Total Long-Term Liabilities         319     Balance Sheet 2022-02-01   \n",
      "3                               NaN         338     Balance Sheet 2022-02-01   \n",
      "4         Total Current Liabilities         300     Balance Sheet 2022-02-01   \n",
      "...                             ...         ...               ...        ...   \n",
      "118430     Total Operating Expenses         178  Income Statement 2025-05-01   \n",
      "118431                          NaN         257  Income Statement 2025-05-01   \n",
      "118432     Total Operating Expenses         193  Income Statement 2025-05-01   \n",
      "118433                          NaN         259  Income Statement 2025-05-01   \n",
      "118434                          NaN         252  Income Statement 2025-05-01   \n",
      "\n",
      "       period_title    item_value fy_month fy_year  \n",
      "0           M1-FY23      0.000000        1      23  \n",
      "1           M1-FY23      0.000000        1      23  \n",
      "2           M1-FY23      0.000000        1      23  \n",
      "3           M1-FY23      0.000000        1      23  \n",
      "4           M1-FY23      0.000000        1      23  \n",
      "...             ...           ...      ...     ...  \n",
      "118430     M12-FY25 -70279.849830       12      25  \n",
      "118431     M12-FY25  13864.610400       12      25  \n",
      "118432     M12-FY25      0.000000       12      25  \n",
      "118433     M12-FY25  13864.610400       12      25  \n",
      "118434     M12-FY25  -4509.804853       12      25  \n",
      "\n",
      "[118435 rows x 15 columns]\n"
     ]
    }
   ],
   "source": [
    "print(df_financials)"
   ],
   "metadata": {
    "collapsed": false,
    "pycharm": {
     "name": "#%%\n"
    }
   }
  },
  {
   "cell_type": "code",
   "execution_count": 100,
   "outputs": [
    {
     "data": {
      "text/plain": "  borrower_id            borrower_name  borrower_sector_code  \\\n0          B1  Knapp  Brown and Keller                 66290   \n1          B1  Knapp  Brown and Keller                 66290   \n2          B1  Knapp  Brown and Keller                 66290   \n3          B1  Knapp  Brown and Keller                 66290   \n\n                         borrower_sector_description    period period_title  \\\n0  Other activities auxiliary to insurance and pe...  01/10/22      M9-FY23   \n1  Other activities auxiliary to insurance and pe...  01/10/22      M9-FY23   \n2  Other activities auxiliary to insurance and pe...  01/10/22      M9-FY23   \n3  Other activities auxiliary to insurance and pe...  01/10/22      M9-FY23   \n\n  covenant_type covenant_property_name covenant_property  \\\n0          DSCR            DSCR Actual            Actual   \n1          DSCR          DSCR Headroom          Headroom   \n2          DSCR            DSCR Status            Status   \n3          DSCR         DSCR Threshold         Threshold   \n\n  covenant_property_unit  covenant_property_value  \n0                NUMERIC                 3.549384  \n1             PERCENTAGE                24.773947  \n2                NUMERIC                 1.000000  \n3                NUMERIC                 2.750000  ",
      "text/html": "<div>\n<style scoped>\n    .dataframe tbody tr th:only-of-type {\n        vertical-align: middle;\n    }\n\n    .dataframe tbody tr th {\n        vertical-align: top;\n    }\n\n    .dataframe thead th {\n        text-align: right;\n    }\n</style>\n<table border=\"1\" class=\"dataframe\">\n  <thead>\n    <tr style=\"text-align: right;\">\n      <th></th>\n      <th>borrower_id</th>\n      <th>borrower_name</th>\n      <th>borrower_sector_code</th>\n      <th>borrower_sector_description</th>\n      <th>period</th>\n      <th>period_title</th>\n      <th>covenant_type</th>\n      <th>covenant_property_name</th>\n      <th>covenant_property</th>\n      <th>covenant_property_unit</th>\n      <th>covenant_property_value</th>\n    </tr>\n  </thead>\n  <tbody>\n    <tr>\n      <th>0</th>\n      <td>B1</td>\n      <td>Knapp  Brown and Keller</td>\n      <td>66290</td>\n      <td>Other activities auxiliary to insurance and pe...</td>\n      <td>01/10/22</td>\n      <td>M9-FY23</td>\n      <td>DSCR</td>\n      <td>DSCR Actual</td>\n      <td>Actual</td>\n      <td>NUMERIC</td>\n      <td>3.549384</td>\n    </tr>\n    <tr>\n      <th>1</th>\n      <td>B1</td>\n      <td>Knapp  Brown and Keller</td>\n      <td>66290</td>\n      <td>Other activities auxiliary to insurance and pe...</td>\n      <td>01/10/22</td>\n      <td>M9-FY23</td>\n      <td>DSCR</td>\n      <td>DSCR Headroom</td>\n      <td>Headroom</td>\n      <td>PERCENTAGE</td>\n      <td>24.773947</td>\n    </tr>\n    <tr>\n      <th>2</th>\n      <td>B1</td>\n      <td>Knapp  Brown and Keller</td>\n      <td>66290</td>\n      <td>Other activities auxiliary to insurance and pe...</td>\n      <td>01/10/22</td>\n      <td>M9-FY23</td>\n      <td>DSCR</td>\n      <td>DSCR Status</td>\n      <td>Status</td>\n      <td>NUMERIC</td>\n      <td>1.000000</td>\n    </tr>\n    <tr>\n      <th>3</th>\n      <td>B1</td>\n      <td>Knapp  Brown and Keller</td>\n      <td>66290</td>\n      <td>Other activities auxiliary to insurance and pe...</td>\n      <td>01/10/22</td>\n      <td>M9-FY23</td>\n      <td>DSCR</td>\n      <td>DSCR Threshold</td>\n      <td>Threshold</td>\n      <td>NUMERIC</td>\n      <td>2.750000</td>\n    </tr>\n  </tbody>\n</table>\n</div>"
     },
     "execution_count": 100,
     "metadata": {},
     "output_type": "execute_result"
    }
   ],
   "source": [
    "df_covenants.head(4)"
   ],
   "metadata": {
    "collapsed": false,
    "pycharm": {
     "name": "#%%\n"
    }
   }
  },
  {
   "cell_type": "code",
   "execution_count": 101,
   "outputs": [],
   "source": [
    "df_covenants_pivot = df_covenants.pivot_table(index=['borrower_id', 'borrower_name', 'borrower_sector_code', 'borrower_sector_description', 'period', 'period_title', 'covenant_type'], columns='covenant_property', values='covenant_property_value').reset_index()\n"
   ],
   "metadata": {
    "collapsed": false,
    "pycharm": {
     "name": "#%%\n"
    }
   }
  },
  {
   "cell_type": "code",
   "execution_count": 102,
   "outputs": [],
   "source": [
    "df_covenants_pivot = df_covenants_pivot.rename_axis(None, axis=1).reset_index(drop=True)"
   ],
   "metadata": {
    "collapsed": false,
    "pycharm": {
     "name": "#%%\n"
    }
   }
  },
  {
   "cell_type": "code",
   "execution_count": 103,
   "outputs": [
    {
     "data": {
      "text/plain": "     borrower_id            borrower_name  borrower_sector_code  \\\n0             B1  Knapp  Brown and Keller                 66290   \n1             B1  Knapp  Brown and Keller                 66290   \n2             B1  Knapp  Brown and Keller                 66290   \n3             B1  Knapp  Brown and Keller                 66290   \n4             B1  Knapp  Brown and Keller                 66290   \n...          ...                      ...                   ...   \n2666          B9               Lee-Gibson                 56101   \n2667          B9               Lee-Gibson                 56101   \n2668          B9               Lee-Gibson                 56101   \n2669          B9               Lee-Gibson                 56101   \n2670          B9               Lee-Gibson                 56101   \n\n                            borrower_sector_description    period  \\\n0     Other activities auxiliary to insurance and pe...  01/01/23   \n1     Other activities auxiliary to insurance and pe...  01/01/23   \n2     Other activities auxiliary to insurance and pe...  01/01/23   \n3     Other activities auxiliary to insurance and pe...  01/01/23   \n4     Other activities auxiliary to insurance and pe...  01/01/24   \n...                                                 ...       ...   \n2666                               Licenced restaurants  01/12/22   \n2667                               Licenced restaurants  01/12/23   \n2668                               Licenced restaurants  01/12/23   \n2669                               Licenced restaurants  01/12/23   \n2670                               Licenced restaurants  01/12/23   \n\n     period_title              covenant_type         Actual     Headroom  \\\n0     M12-FY23(A)                       DSCR       2.624749    -5.249102   \n1     M12-FY23(A)       Gross Leverage Ratio       3.841833     3.282403   \n2     M12-FY23(A)         Minimum Cash Cover  635053.100000    62.366188   \n3     M12-FY23(A)      Senior Leverage Ratio       2.249121    16.286605   \n4        M12-FY24                       DSCR      -0.180507 -1785.838694   \n...           ...                        ...            ...          ...   \n2666      M6-FY23  Soft Gross Leverage Ratio       3.215004    33.452276   \n2667      M6-FY24                       DSCR       2.873468     4.726499   \n2668      M6-FY24       Gross Leverage Ratio       4.467315    18.830312   \n2669      M6-FY24              Loan to Value      69.300000     3.384615   \n2670      M6-FY24  Soft Gross Leverage Ratio       4.467315     8.470121   \n\n      Status  Threshold  \n0       -1.0       2.75  \n1        0.0       3.96  \n2        1.0  275000.00  \n3        1.0       2.64  \n4       -1.0       2.75  \n...      ...        ...  \n2666     1.0       4.62  \n2667     0.0       2.75  \n2668     1.0       5.39  \n2669     0.0      71.50  \n2670     0.0       4.84  \n\n[2671 rows x 11 columns]",
      "text/html": "<div>\n<style scoped>\n    .dataframe tbody tr th:only-of-type {\n        vertical-align: middle;\n    }\n\n    .dataframe tbody tr th {\n        vertical-align: top;\n    }\n\n    .dataframe thead th {\n        text-align: right;\n    }\n</style>\n<table border=\"1\" class=\"dataframe\">\n  <thead>\n    <tr style=\"text-align: right;\">\n      <th></th>\n      <th>borrower_id</th>\n      <th>borrower_name</th>\n      <th>borrower_sector_code</th>\n      <th>borrower_sector_description</th>\n      <th>period</th>\n      <th>period_title</th>\n      <th>covenant_type</th>\n      <th>Actual</th>\n      <th>Headroom</th>\n      <th>Status</th>\n      <th>Threshold</th>\n    </tr>\n  </thead>\n  <tbody>\n    <tr>\n      <th>0</th>\n      <td>B1</td>\n      <td>Knapp  Brown and Keller</td>\n      <td>66290</td>\n      <td>Other activities auxiliary to insurance and pe...</td>\n      <td>01/01/23</td>\n      <td>M12-FY23(A)</td>\n      <td>DSCR</td>\n      <td>2.624749</td>\n      <td>-5.249102</td>\n      <td>-1.0</td>\n      <td>2.75</td>\n    </tr>\n    <tr>\n      <th>1</th>\n      <td>B1</td>\n      <td>Knapp  Brown and Keller</td>\n      <td>66290</td>\n      <td>Other activities auxiliary to insurance and pe...</td>\n      <td>01/01/23</td>\n      <td>M12-FY23(A)</td>\n      <td>Gross Leverage Ratio</td>\n      <td>3.841833</td>\n      <td>3.282403</td>\n      <td>0.0</td>\n      <td>3.96</td>\n    </tr>\n    <tr>\n      <th>2</th>\n      <td>B1</td>\n      <td>Knapp  Brown and Keller</td>\n      <td>66290</td>\n      <td>Other activities auxiliary to insurance and pe...</td>\n      <td>01/01/23</td>\n      <td>M12-FY23(A)</td>\n      <td>Minimum Cash Cover</td>\n      <td>635053.100000</td>\n      <td>62.366188</td>\n      <td>1.0</td>\n      <td>275000.00</td>\n    </tr>\n    <tr>\n      <th>3</th>\n      <td>B1</td>\n      <td>Knapp  Brown and Keller</td>\n      <td>66290</td>\n      <td>Other activities auxiliary to insurance and pe...</td>\n      <td>01/01/23</td>\n      <td>M12-FY23(A)</td>\n      <td>Senior Leverage Ratio</td>\n      <td>2.249121</td>\n      <td>16.286605</td>\n      <td>1.0</td>\n      <td>2.64</td>\n    </tr>\n    <tr>\n      <th>4</th>\n      <td>B1</td>\n      <td>Knapp  Brown and Keller</td>\n      <td>66290</td>\n      <td>Other activities auxiliary to insurance and pe...</td>\n      <td>01/01/24</td>\n      <td>M12-FY24</td>\n      <td>DSCR</td>\n      <td>-0.180507</td>\n      <td>-1785.838694</td>\n      <td>-1.0</td>\n      <td>2.75</td>\n    </tr>\n    <tr>\n      <th>...</th>\n      <td>...</td>\n      <td>...</td>\n      <td>...</td>\n      <td>...</td>\n      <td>...</td>\n      <td>...</td>\n      <td>...</td>\n      <td>...</td>\n      <td>...</td>\n      <td>...</td>\n      <td>...</td>\n    </tr>\n    <tr>\n      <th>2666</th>\n      <td>B9</td>\n      <td>Lee-Gibson</td>\n      <td>56101</td>\n      <td>Licenced restaurants</td>\n      <td>01/12/22</td>\n      <td>M6-FY23</td>\n      <td>Soft Gross Leverage Ratio</td>\n      <td>3.215004</td>\n      <td>33.452276</td>\n      <td>1.0</td>\n      <td>4.62</td>\n    </tr>\n    <tr>\n      <th>2667</th>\n      <td>B9</td>\n      <td>Lee-Gibson</td>\n      <td>56101</td>\n      <td>Licenced restaurants</td>\n      <td>01/12/23</td>\n      <td>M6-FY24</td>\n      <td>DSCR</td>\n      <td>2.873468</td>\n      <td>4.726499</td>\n      <td>0.0</td>\n      <td>2.75</td>\n    </tr>\n    <tr>\n      <th>2668</th>\n      <td>B9</td>\n      <td>Lee-Gibson</td>\n      <td>56101</td>\n      <td>Licenced restaurants</td>\n      <td>01/12/23</td>\n      <td>M6-FY24</td>\n      <td>Gross Leverage Ratio</td>\n      <td>4.467315</td>\n      <td>18.830312</td>\n      <td>1.0</td>\n      <td>5.39</td>\n    </tr>\n    <tr>\n      <th>2669</th>\n      <td>B9</td>\n      <td>Lee-Gibson</td>\n      <td>56101</td>\n      <td>Licenced restaurants</td>\n      <td>01/12/23</td>\n      <td>M6-FY24</td>\n      <td>Loan to Value</td>\n      <td>69.300000</td>\n      <td>3.384615</td>\n      <td>0.0</td>\n      <td>71.50</td>\n    </tr>\n    <tr>\n      <th>2670</th>\n      <td>B9</td>\n      <td>Lee-Gibson</td>\n      <td>56101</td>\n      <td>Licenced restaurants</td>\n      <td>01/12/23</td>\n      <td>M6-FY24</td>\n      <td>Soft Gross Leverage Ratio</td>\n      <td>4.467315</td>\n      <td>8.470121</td>\n      <td>0.0</td>\n      <td>4.84</td>\n    </tr>\n  </tbody>\n</table>\n<p>2671 rows × 11 columns</p>\n</div>"
     },
     "execution_count": 103,
     "metadata": {},
     "output_type": "execute_result"
    }
   ],
   "source": [
    "df_covenants_pivot"
   ],
   "metadata": {
    "collapsed": false,
    "pycharm": {
     "name": "#%%\n"
    }
   }
  },
  {
   "cell_type": "code",
   "execution_count": 104,
   "outputs": [],
   "source": [
    "df_covenants_pivot['period'] = pd.to_datetime(df_covenants_pivot['period'],format='%d/%m/%y')\n",
    "df_covenants_pivot['fy_month'] = df_covenants_pivot['period_title'].str.split('-',expand=True)[0].apply(lambda x: re.sub('[^0-9]', '', x))\n",
    "df_covenants_pivot['fy_year'] = df_covenants_pivot['period_title'].str.split('-',expand=True)[1].apply(lambda x: re.sub('[^0-9]', '', x))"
   ],
   "metadata": {
    "collapsed": false,
    "pycharm": {
     "name": "#%%\n"
    }
   }
  },
  {
   "cell_type": "code",
   "execution_count": 105,
   "outputs": [
    {
     "data": {
      "text/plain": "     borrower_id            borrower_name  borrower_sector_code  \\\n0             B1  Knapp  Brown and Keller                 66290   \n1             B1  Knapp  Brown and Keller                 66290   \n2             B1  Knapp  Brown and Keller                 66290   \n3             B1  Knapp  Brown and Keller                 66290   \n4             B1  Knapp  Brown and Keller                 66290   \n...          ...                      ...                   ...   \n2666          B9               Lee-Gibson                 56101   \n2667          B9               Lee-Gibson                 56101   \n2668          B9               Lee-Gibson                 56101   \n2669          B9               Lee-Gibson                 56101   \n2670          B9               Lee-Gibson                 56101   \n\n                            borrower_sector_description     period  \\\n0     Other activities auxiliary to insurance and pe... 2023-01-01   \n1     Other activities auxiliary to insurance and pe... 2023-01-01   \n2     Other activities auxiliary to insurance and pe... 2023-01-01   \n3     Other activities auxiliary to insurance and pe... 2023-01-01   \n4     Other activities auxiliary to insurance and pe... 2024-01-01   \n...                                                 ...        ...   \n2666                               Licenced restaurants 2022-12-01   \n2667                               Licenced restaurants 2023-12-01   \n2668                               Licenced restaurants 2023-12-01   \n2669                               Licenced restaurants 2023-12-01   \n2670                               Licenced restaurants 2023-12-01   \n\n     period_title              covenant_type         Actual     Headroom  \\\n0     M12-FY23(A)                       DSCR       2.624749    -5.249102   \n1     M12-FY23(A)       Gross Leverage Ratio       3.841833     3.282403   \n2     M12-FY23(A)         Minimum Cash Cover  635053.100000    62.366188   \n3     M12-FY23(A)      Senior Leverage Ratio       2.249121    16.286605   \n4        M12-FY24                       DSCR      -0.180507 -1785.838694   \n...           ...                        ...            ...          ...   \n2666      M6-FY23  Soft Gross Leverage Ratio       3.215004    33.452276   \n2667      M6-FY24                       DSCR       2.873468     4.726499   \n2668      M6-FY24       Gross Leverage Ratio       4.467315    18.830312   \n2669      M6-FY24              Loan to Value      69.300000     3.384615   \n2670      M6-FY24  Soft Gross Leverage Ratio       4.467315     8.470121   \n\n      Status  Threshold fy_month fy_year  \n0       -1.0       2.75       12      23  \n1        0.0       3.96       12      23  \n2        1.0  275000.00       12      23  \n3        1.0       2.64       12      23  \n4       -1.0       2.75       12      24  \n...      ...        ...      ...     ...  \n2666     1.0       4.62        6      23  \n2667     0.0       2.75        6      24  \n2668     1.0       5.39        6      24  \n2669     0.0      71.50        6      24  \n2670     0.0       4.84        6      24  \n\n[2671 rows x 13 columns]",
      "text/html": "<div>\n<style scoped>\n    .dataframe tbody tr th:only-of-type {\n        vertical-align: middle;\n    }\n\n    .dataframe tbody tr th {\n        vertical-align: top;\n    }\n\n    .dataframe thead th {\n        text-align: right;\n    }\n</style>\n<table border=\"1\" class=\"dataframe\">\n  <thead>\n    <tr style=\"text-align: right;\">\n      <th></th>\n      <th>borrower_id</th>\n      <th>borrower_name</th>\n      <th>borrower_sector_code</th>\n      <th>borrower_sector_description</th>\n      <th>period</th>\n      <th>period_title</th>\n      <th>covenant_type</th>\n      <th>Actual</th>\n      <th>Headroom</th>\n      <th>Status</th>\n      <th>Threshold</th>\n      <th>fy_month</th>\n      <th>fy_year</th>\n    </tr>\n  </thead>\n  <tbody>\n    <tr>\n      <th>0</th>\n      <td>B1</td>\n      <td>Knapp  Brown and Keller</td>\n      <td>66290</td>\n      <td>Other activities auxiliary to insurance and pe...</td>\n      <td>2023-01-01</td>\n      <td>M12-FY23(A)</td>\n      <td>DSCR</td>\n      <td>2.624749</td>\n      <td>-5.249102</td>\n      <td>-1.0</td>\n      <td>2.75</td>\n      <td>12</td>\n      <td>23</td>\n    </tr>\n    <tr>\n      <th>1</th>\n      <td>B1</td>\n      <td>Knapp  Brown and Keller</td>\n      <td>66290</td>\n      <td>Other activities auxiliary to insurance and pe...</td>\n      <td>2023-01-01</td>\n      <td>M12-FY23(A)</td>\n      <td>Gross Leverage Ratio</td>\n      <td>3.841833</td>\n      <td>3.282403</td>\n      <td>0.0</td>\n      <td>3.96</td>\n      <td>12</td>\n      <td>23</td>\n    </tr>\n    <tr>\n      <th>2</th>\n      <td>B1</td>\n      <td>Knapp  Brown and Keller</td>\n      <td>66290</td>\n      <td>Other activities auxiliary to insurance and pe...</td>\n      <td>2023-01-01</td>\n      <td>M12-FY23(A)</td>\n      <td>Minimum Cash Cover</td>\n      <td>635053.100000</td>\n      <td>62.366188</td>\n      <td>1.0</td>\n      <td>275000.00</td>\n      <td>12</td>\n      <td>23</td>\n    </tr>\n    <tr>\n      <th>3</th>\n      <td>B1</td>\n      <td>Knapp  Brown and Keller</td>\n      <td>66290</td>\n      <td>Other activities auxiliary to insurance and pe...</td>\n      <td>2023-01-01</td>\n      <td>M12-FY23(A)</td>\n      <td>Senior Leverage Ratio</td>\n      <td>2.249121</td>\n      <td>16.286605</td>\n      <td>1.0</td>\n      <td>2.64</td>\n      <td>12</td>\n      <td>23</td>\n    </tr>\n    <tr>\n      <th>4</th>\n      <td>B1</td>\n      <td>Knapp  Brown and Keller</td>\n      <td>66290</td>\n      <td>Other activities auxiliary to insurance and pe...</td>\n      <td>2024-01-01</td>\n      <td>M12-FY24</td>\n      <td>DSCR</td>\n      <td>-0.180507</td>\n      <td>-1785.838694</td>\n      <td>-1.0</td>\n      <td>2.75</td>\n      <td>12</td>\n      <td>24</td>\n    </tr>\n    <tr>\n      <th>...</th>\n      <td>...</td>\n      <td>...</td>\n      <td>...</td>\n      <td>...</td>\n      <td>...</td>\n      <td>...</td>\n      <td>...</td>\n      <td>...</td>\n      <td>...</td>\n      <td>...</td>\n      <td>...</td>\n      <td>...</td>\n      <td>...</td>\n    </tr>\n    <tr>\n      <th>2666</th>\n      <td>B9</td>\n      <td>Lee-Gibson</td>\n      <td>56101</td>\n      <td>Licenced restaurants</td>\n      <td>2022-12-01</td>\n      <td>M6-FY23</td>\n      <td>Soft Gross Leverage Ratio</td>\n      <td>3.215004</td>\n      <td>33.452276</td>\n      <td>1.0</td>\n      <td>4.62</td>\n      <td>6</td>\n      <td>23</td>\n    </tr>\n    <tr>\n      <th>2667</th>\n      <td>B9</td>\n      <td>Lee-Gibson</td>\n      <td>56101</td>\n      <td>Licenced restaurants</td>\n      <td>2023-12-01</td>\n      <td>M6-FY24</td>\n      <td>DSCR</td>\n      <td>2.873468</td>\n      <td>4.726499</td>\n      <td>0.0</td>\n      <td>2.75</td>\n      <td>6</td>\n      <td>24</td>\n    </tr>\n    <tr>\n      <th>2668</th>\n      <td>B9</td>\n      <td>Lee-Gibson</td>\n      <td>56101</td>\n      <td>Licenced restaurants</td>\n      <td>2023-12-01</td>\n      <td>M6-FY24</td>\n      <td>Gross Leverage Ratio</td>\n      <td>4.467315</td>\n      <td>18.830312</td>\n      <td>1.0</td>\n      <td>5.39</td>\n      <td>6</td>\n      <td>24</td>\n    </tr>\n    <tr>\n      <th>2669</th>\n      <td>B9</td>\n      <td>Lee-Gibson</td>\n      <td>56101</td>\n      <td>Licenced restaurants</td>\n      <td>2023-12-01</td>\n      <td>M6-FY24</td>\n      <td>Loan to Value</td>\n      <td>69.300000</td>\n      <td>3.384615</td>\n      <td>0.0</td>\n      <td>71.50</td>\n      <td>6</td>\n      <td>24</td>\n    </tr>\n    <tr>\n      <th>2670</th>\n      <td>B9</td>\n      <td>Lee-Gibson</td>\n      <td>56101</td>\n      <td>Licenced restaurants</td>\n      <td>2023-12-01</td>\n      <td>M6-FY24</td>\n      <td>Soft Gross Leverage Ratio</td>\n      <td>4.467315</td>\n      <td>8.470121</td>\n      <td>0.0</td>\n      <td>4.84</td>\n      <td>6</td>\n      <td>24</td>\n    </tr>\n  </tbody>\n</table>\n<p>2671 rows × 13 columns</p>\n</div>"
     },
     "execution_count": 105,
     "metadata": {},
     "output_type": "execute_result"
    }
   ],
   "source": [
    "df_covenants_pivot"
   ],
   "metadata": {
    "collapsed": false,
    "pycharm": {
     "name": "#%%\n"
    }
   }
  },
  {
   "cell_type": "code",
   "execution_count": 106,
   "outputs": [
    {
     "data": {
      "text/plain": "   borrower_id                borrower_name financial_year_start_date  \\\n0           B1      Knapp  Brown and Keller                2022-05-01   \n1           B2   Miller  Wood and Wilkinson                2022-02-01   \n2           B3                    Smith Ltd                2022-01-01   \n3           B4               Porter-Beasley                2022-04-01   \n4           B5       Flores  Perez and Chen                2022-07-01   \n5           B6           Gutierrez-Martinez                2022-02-01   \n6           B7                   Bauer-Page                2023-04-01   \n7           B8  Newman  Harris and Cisneros                2021-07-01   \n8           B9                   Lee-Gibson                2021-04-01   \n9          B10    Moore  Vasquez and Willis                2020-04-01   \n10         B11                    Jones PLC                2022-01-01   \n11         B12                 Gonzales LLC                2018-08-01   \n12         B13              Luna-Montgomery                2016-04-01   \n13         B14                    White Inc                2022-10-01   \n14         B15     Garcia  Gordon and Lopez                2023-06-01   \n15         B16            Smith-Blankenship                2023-01-01   \n16         B17                  Davis Group                2022-07-01   \n17         B18               Robertson-Todd                2023-04-01   \n18         B19      Woods  Ayers and Jacobs                2021-11-01   \n19         B20                     Pena LLC                2021-07-01   \n\n   most_recent_data borrower_currency  borrower_sector_code  \\\n0        2023-01-01               GBP                 43220   \n1        2023-01-01               GBP                 66290   \n2        2023-02-01               GBP                 55100   \n3        2023-02-01               GBP                 85590   \n4        2023-02-01               GBP                 73110   \n5        2023-03-01               GBP                 85410   \n6        2023-03-01               GBP                 55100   \n7        2023-03-01               GBP                 56101   \n8        2023-03-01               GBP                 42120   \n9        2023-03-01               GBP                 32500   \n10       2023-03-01               GBP                 70221   \n11       2023-03-01               GBP                 56101   \n12       2023-03-01               GBP                 42990   \n13       2023-03-01               GBP                 55100   \n14       2023-04-01               GBP                 28290   \n15       2023-04-01               EUR                 55100   \n16       2023-04-01               GBP                 55100   \n17       2023-04-01               GBP                 43999   \n18       2023-04-01               GBP                 55100   \n19       2022-03-01               GBP                 63990   \n\n                          borrower_sector_description  monitoring_level  \\\n0    Plumbing, heat and air-conditioning installation                 0   \n1   Other activities auxiliary to insurance and pe...                 0   \n2                    Hotels and similar accommodation                 0   \n3                              Other education n.e.c.                 0   \n4                                Advertising agencies                 0   \n5               Post-secondary non-tertiary education                 0   \n6                    Hotels and similar accommodation                 0   \n7                                Licenced restaurants                 0   \n8   Construction of railways and underground railways                 2   \n9   Manufacture of medical and dental instruments ...                 0   \n10                               Financial management                 0   \n11                               Licenced restaurants                 0   \n12  Construction of other civil engineering projec...                 0   \n13                   Hotels and similar accommodation                 0   \n14  Manufacture of other general-purpose machinery...                 0   \n15                   Hotels and similar accommodation                 0   \n16                   Hotels and similar accommodation                 2   \n17   Other specialised construction activities n.e.c.                 0   \n18                   Hotels and similar accommodation                 0   \n19        Other information service activities n.e.c.                 1   \n\n   monitoring_status  \n0           Standard  \n1           Standard  \n2           Standard  \n3           Standard  \n4           Standard  \n5           Standard  \n6           Standard  \n7           Standard  \n8          Intensive  \n9           Standard  \n10          Standard  \n11          Standard  \n12          Standard  \n13          Standard  \n14          Standard  \n15          Standard  \n16         Intensive  \n17          Standard  \n18          Standard  \n19         Watchlist  ",
      "text/html": "<div>\n<style scoped>\n    .dataframe tbody tr th:only-of-type {\n        vertical-align: middle;\n    }\n\n    .dataframe tbody tr th {\n        vertical-align: top;\n    }\n\n    .dataframe thead th {\n        text-align: right;\n    }\n</style>\n<table border=\"1\" class=\"dataframe\">\n  <thead>\n    <tr style=\"text-align: right;\">\n      <th></th>\n      <th>borrower_id</th>\n      <th>borrower_name</th>\n      <th>financial_year_start_date</th>\n      <th>most_recent_data</th>\n      <th>borrower_currency</th>\n      <th>borrower_sector_code</th>\n      <th>borrower_sector_description</th>\n      <th>monitoring_level</th>\n      <th>monitoring_status</th>\n    </tr>\n  </thead>\n  <tbody>\n    <tr>\n      <th>0</th>\n      <td>B1</td>\n      <td>Knapp  Brown and Keller</td>\n      <td>2022-05-01</td>\n      <td>2023-01-01</td>\n      <td>GBP</td>\n      <td>43220</td>\n      <td>Plumbing, heat and air-conditioning installation</td>\n      <td>0</td>\n      <td>Standard</td>\n    </tr>\n    <tr>\n      <th>1</th>\n      <td>B2</td>\n      <td>Miller  Wood and Wilkinson</td>\n      <td>2022-02-01</td>\n      <td>2023-01-01</td>\n      <td>GBP</td>\n      <td>66290</td>\n      <td>Other activities auxiliary to insurance and pe...</td>\n      <td>0</td>\n      <td>Standard</td>\n    </tr>\n    <tr>\n      <th>2</th>\n      <td>B3</td>\n      <td>Smith Ltd</td>\n      <td>2022-01-01</td>\n      <td>2023-02-01</td>\n      <td>GBP</td>\n      <td>55100</td>\n      <td>Hotels and similar accommodation</td>\n      <td>0</td>\n      <td>Standard</td>\n    </tr>\n    <tr>\n      <th>3</th>\n      <td>B4</td>\n      <td>Porter-Beasley</td>\n      <td>2022-04-01</td>\n      <td>2023-02-01</td>\n      <td>GBP</td>\n      <td>85590</td>\n      <td>Other education n.e.c.</td>\n      <td>0</td>\n      <td>Standard</td>\n    </tr>\n    <tr>\n      <th>4</th>\n      <td>B5</td>\n      <td>Flores  Perez and Chen</td>\n      <td>2022-07-01</td>\n      <td>2023-02-01</td>\n      <td>GBP</td>\n      <td>73110</td>\n      <td>Advertising agencies</td>\n      <td>0</td>\n      <td>Standard</td>\n    </tr>\n    <tr>\n      <th>5</th>\n      <td>B6</td>\n      <td>Gutierrez-Martinez</td>\n      <td>2022-02-01</td>\n      <td>2023-03-01</td>\n      <td>GBP</td>\n      <td>85410</td>\n      <td>Post-secondary non-tertiary education</td>\n      <td>0</td>\n      <td>Standard</td>\n    </tr>\n    <tr>\n      <th>6</th>\n      <td>B7</td>\n      <td>Bauer-Page</td>\n      <td>2023-04-01</td>\n      <td>2023-03-01</td>\n      <td>GBP</td>\n      <td>55100</td>\n      <td>Hotels and similar accommodation</td>\n      <td>0</td>\n      <td>Standard</td>\n    </tr>\n    <tr>\n      <th>7</th>\n      <td>B8</td>\n      <td>Newman  Harris and Cisneros</td>\n      <td>2021-07-01</td>\n      <td>2023-03-01</td>\n      <td>GBP</td>\n      <td>56101</td>\n      <td>Licenced restaurants</td>\n      <td>0</td>\n      <td>Standard</td>\n    </tr>\n    <tr>\n      <th>8</th>\n      <td>B9</td>\n      <td>Lee-Gibson</td>\n      <td>2021-04-01</td>\n      <td>2023-03-01</td>\n      <td>GBP</td>\n      <td>42120</td>\n      <td>Construction of railways and underground railways</td>\n      <td>2</td>\n      <td>Intensive</td>\n    </tr>\n    <tr>\n      <th>9</th>\n      <td>B10</td>\n      <td>Moore  Vasquez and Willis</td>\n      <td>2020-04-01</td>\n      <td>2023-03-01</td>\n      <td>GBP</td>\n      <td>32500</td>\n      <td>Manufacture of medical and dental instruments ...</td>\n      <td>0</td>\n      <td>Standard</td>\n    </tr>\n    <tr>\n      <th>10</th>\n      <td>B11</td>\n      <td>Jones PLC</td>\n      <td>2022-01-01</td>\n      <td>2023-03-01</td>\n      <td>GBP</td>\n      <td>70221</td>\n      <td>Financial management</td>\n      <td>0</td>\n      <td>Standard</td>\n    </tr>\n    <tr>\n      <th>11</th>\n      <td>B12</td>\n      <td>Gonzales LLC</td>\n      <td>2018-08-01</td>\n      <td>2023-03-01</td>\n      <td>GBP</td>\n      <td>56101</td>\n      <td>Licenced restaurants</td>\n      <td>0</td>\n      <td>Standard</td>\n    </tr>\n    <tr>\n      <th>12</th>\n      <td>B13</td>\n      <td>Luna-Montgomery</td>\n      <td>2016-04-01</td>\n      <td>2023-03-01</td>\n      <td>GBP</td>\n      <td>42990</td>\n      <td>Construction of other civil engineering projec...</td>\n      <td>0</td>\n      <td>Standard</td>\n    </tr>\n    <tr>\n      <th>13</th>\n      <td>B14</td>\n      <td>White Inc</td>\n      <td>2022-10-01</td>\n      <td>2023-03-01</td>\n      <td>GBP</td>\n      <td>55100</td>\n      <td>Hotels and similar accommodation</td>\n      <td>0</td>\n      <td>Standard</td>\n    </tr>\n    <tr>\n      <th>14</th>\n      <td>B15</td>\n      <td>Garcia  Gordon and Lopez</td>\n      <td>2023-06-01</td>\n      <td>2023-04-01</td>\n      <td>GBP</td>\n      <td>28290</td>\n      <td>Manufacture of other general-purpose machinery...</td>\n      <td>0</td>\n      <td>Standard</td>\n    </tr>\n    <tr>\n      <th>15</th>\n      <td>B16</td>\n      <td>Smith-Blankenship</td>\n      <td>2023-01-01</td>\n      <td>2023-04-01</td>\n      <td>EUR</td>\n      <td>55100</td>\n      <td>Hotels and similar accommodation</td>\n      <td>0</td>\n      <td>Standard</td>\n    </tr>\n    <tr>\n      <th>16</th>\n      <td>B17</td>\n      <td>Davis Group</td>\n      <td>2022-07-01</td>\n      <td>2023-04-01</td>\n      <td>GBP</td>\n      <td>55100</td>\n      <td>Hotels and similar accommodation</td>\n      <td>2</td>\n      <td>Intensive</td>\n    </tr>\n    <tr>\n      <th>17</th>\n      <td>B18</td>\n      <td>Robertson-Todd</td>\n      <td>2023-04-01</td>\n      <td>2023-04-01</td>\n      <td>GBP</td>\n      <td>43999</td>\n      <td>Other specialised construction activities n.e.c.</td>\n      <td>0</td>\n      <td>Standard</td>\n    </tr>\n    <tr>\n      <th>18</th>\n      <td>B19</td>\n      <td>Woods  Ayers and Jacobs</td>\n      <td>2021-11-01</td>\n      <td>2023-04-01</td>\n      <td>GBP</td>\n      <td>55100</td>\n      <td>Hotels and similar accommodation</td>\n      <td>0</td>\n      <td>Standard</td>\n    </tr>\n    <tr>\n      <th>19</th>\n      <td>B20</td>\n      <td>Pena LLC</td>\n      <td>2021-07-01</td>\n      <td>2022-03-01</td>\n      <td>GBP</td>\n      <td>63990</td>\n      <td>Other information service activities n.e.c.</td>\n      <td>1</td>\n      <td>Watchlist</td>\n    </tr>\n  </tbody>\n</table>\n</div>"
     },
     "execution_count": 106,
     "metadata": {},
     "output_type": "execute_result"
    }
   ],
   "source": [
    "df_borrowers"
   ],
   "metadata": {
    "collapsed": false,
    "pycharm": {
     "name": "#%%\n"
    }
   }
  },
  {
   "cell_type": "code",
   "execution_count": 107,
   "outputs": [],
   "source": [
    "import os\n",
    "if not os.path.exists('transformed'):\n",
    "    os.makedirs('transformed')\n",
    "\n",
    "df_borrowers.to_csv('transformed/borrowers.csv', index=False)\n",
    "df_covenants_pivot.to_csv('transformed/covenants.csv', index=False)\n",
    "df_financials.to_csv('transformed/financials.csv', index=False)"
   ],
   "metadata": {
    "collapsed": false,
    "pycharm": {
     "name": "#%%\n"
    }
   }
  },
  {
   "cell_type": "code",
   "execution_count": 107,
   "outputs": [],
   "source": [],
   "metadata": {
    "collapsed": false,
    "pycharm": {
     "name": "#%%\n"
    }
   }
  }
 ],
 "metadata": {
  "kernelspec": {
   "display_name": "Python 3",
   "language": "python",
   "name": "python3"
  },
  "language_info": {
   "codemirror_mode": {
    "name": "ipython",
    "version": 2
   },
   "file_extension": ".py",
   "mimetype": "text/x-python",
   "name": "python",
   "nbconvert_exporter": "python",
   "pygments_lexer": "ipython2",
   "version": "2.7.6"
  }
 },
 "nbformat": 4,
 "nbformat_minor": 0
}